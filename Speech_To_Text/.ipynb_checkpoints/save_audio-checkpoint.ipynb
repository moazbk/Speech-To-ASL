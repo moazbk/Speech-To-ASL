{
 "cells": [
  {
   "cell_type": "code",
   "execution_count": 2,
   "metadata": {
    "scrolled": true
   },
   "outputs": [
    {
     "name": "stdout",
     "output_type": "stream",
     "text": [
      "recording...\n",
      "finished recording\n",
      "2974\n",
      "3\n",
      "exporting Split_audio/chunk0.wav\n",
      "exporting Split_audio/chunk1.wav\n",
      "exporting Split_audio/chunk2.wav\n"
     ]
    }
   ],
   "source": [
    "import pyaudio\n",
    "import wave\n",
    "import os\n",
    "import matplotlib.pyplot as plt\n",
    "from IPython.display import Audio\n",
    "import numpy as np\n",
    "import scipy\n",
    "from pydub import AudioSegment\n",
    "from pydub.silence import split_on_silence\n",
    "FORMAT = pyaudio.paInt16\n",
    "CHANNELS = 1\n",
    "RATE = 24100  # 24100 is the frequency max which is in Khz human only hear between 20,000 and 22,000 Hz\n",
    "CHUNK = 1024\n",
    "RECORD_SECONDS = 5\n",
    "WAVE_OUTPUT_FILENAME = \"file.wav\"\n",
    "\n",
    "audio = pyaudio.PyAudio()\n",
    "\n",
    "# start Recording\n",
    "stream = audio.open(format=FORMAT, channels=CHANNELS,\n",
    "                    rate=RATE, input=True,\n",
    "                    frames_per_buffer=CHUNK)\n",
    "print(\"recording...\")\n",
    "frames = []\n",
    "\n",
    "for i in range(0, int(RATE / CHUNK * RECORD_SECONDS)):\n",
    "    data = stream.read(CHUNK)\n",
    "    frames.append(data)\n",
    "print(\"finished recording\")\n",
    "DATA_PATH = \"./data/\"\n",
    "stream.stop_stream()\n",
    "stream.close()\n",
    "audio.terminate()\n",
    "# stop Recording\n",
    "\n",
    "#start Saving\n",
    "\n",
    "waveFile = wave.open(WAVE_OUTPUT_FILENAME, 'wb')\n",
    "waveFile.setnchannels(CHANNELS)\n",
    "waveFile.setsampwidth(audio.get_sample_size(FORMAT))\n",
    "waveFile.setframerate(RATE)\n",
    "waveFile.writeframes(b''.join(frames))\n",
    "waveFile.close()\n",
    "sound_file = AudioSegment.from_wav(\"file.wav\")\n",
    "print(len(sound_file))\n",
    "\n",
    "#Saved File.wav\n",
    "\n",
    "#Start Chunking\n",
    "audio_chunks = split_on_silence(sound_file,\n",
    "                                # must be silent for 220 ms\n",
    "                                min_silence_len=300,\n",
    "\n",
    "                                # consider it silent if quieter than -60 dBFS\n",
    "                                silence_thresh=-47,\n",
    "                                # keep silence for 200 and save it\n",
    "                                keep_silence=300\n",
    "                                )\n",
    "\n",
    "print(len(audio_chunks))\n",
    "for i, chunk in enumerate(audio_chunks):\n",
    "    out_file = \"Split_audio/chunk{0}.wav\".format(i)\n",
    "    print(\"exporting\", out_file)\n",
    "    chunk.export(out_file, format=\"wav\")\n",
    "#Stopped Trimming audio\n"
   ]
  },
  {
   "cell_type": "code",
   "execution_count": null,
   "metadata": {},
   "outputs": [],
   "source": []
  }
 ],
 "metadata": {
  "kernelspec": {
   "display_name": "Python 3",
   "language": "python",
   "name": "python3"
  },
  "language_info": {
   "codemirror_mode": {
    "name": "ipython",
    "version": 3
   },
   "file_extension": ".py",
   "mimetype": "text/x-python",
   "name": "python",
   "nbconvert_exporter": "python",
   "pygments_lexer": "ipython3",
   "version": "3.7.3"
  }
 },
 "nbformat": 4,
 "nbformat_minor": 2
}
